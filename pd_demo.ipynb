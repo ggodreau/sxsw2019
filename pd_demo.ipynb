{
 "cells": [
  {
   "cell_type": "markdown",
   "metadata": {},
   "source": [
    "# Importing CSV files"
   ]
  },
  {
   "cell_type": "code",
   "execution_count": 1,
   "metadata": {},
   "outputs": [],
   "source": [
    "import pandas as pd\n",
    "import re\n",
    "import json\n",
    "import matplotlib.pyplot as plt\n",
    "%matplotlib inline"
   ]
  },
  {
   "cell_type": "code",
   "execution_count": 2,
   "metadata": {},
   "outputs": [],
   "source": [
    "# https://data.austintexas.gov/Public-Safety/EMS-Spring-Festival-Season-2018-Incident-Details/q99r-2je5\n",
    "# https://data.austintexas.gov/resource/ddqt-6p93.json\n",
    "# SXSW 2018 was 3/9 - 3/18\n",
    "ems = pd.read_csv('./ems.csv')"
   ]
  },
  {
   "cell_type": "code",
   "execution_count": 3,
   "metadata": {},
   "outputs": [
    {
     "data": {
      "text/html": [
       "<div>\n",
       "<style scoped>\n",
       "    .dataframe tbody tr th:only-of-type {\n",
       "        vertical-align: middle;\n",
       "    }\n",
       "\n",
       "    .dataframe tbody tr th {\n",
       "        vertical-align: top;\n",
       "    }\n",
       "\n",
       "    .dataframe thead th {\n",
       "        text-align: right;\n",
       "    }\n",
       "</style>\n",
       "<table border=\"1\" class=\"dataframe\">\n",
       "  <thead>\n",
       "    <tr style=\"text-align: right;\">\n",
       "      <th></th>\n",
       "      <th>Incident Key</th>\n",
       "      <th>Event Date</th>\n",
       "      <th>Event Day of Week</th>\n",
       "      <th>Incident Time</th>\n",
       "      <th>Location Longitude</th>\n",
       "      <th>Location Latitude</th>\n",
       "      <th>Responding Units</th>\n",
       "      <th>Dispositions</th>\n",
       "      <th>Transport Priorities</th>\n",
       "      <th>Patient Transports</th>\n",
       "      <th>Patient Refusals</th>\n",
       "      <th>Other Patient Outcomes</th>\n",
       "      <th>Total Patients</th>\n",
       "      <th>Patients Transported to CCP</th>\n",
       "      <th>Patients Transported From CPP</th>\n",
       "      <th>Incident Location</th>\n",
       "      <th>Current</th>\n",
       "    </tr>\n",
       "  </thead>\n",
       "  <tbody>\n",
       "    <tr>\n",
       "      <th>0</th>\n",
       "      <td>1</td>\n",
       "      <td>03/13/2018</td>\n",
       "      <td>Tuesday</td>\n",
       "      <td>03/13/2018 03:00:00 PM</td>\n",
       "      <td>-97.739335</td>\n",
       "      <td>30.267068</td>\n",
       "      <td>SRU3</td>\n",
       "      <td>No Patient</td>\n",
       "      <td>NaN</td>\n",
       "      <td>0</td>\n",
       "      <td>0</td>\n",
       "      <td>0</td>\n",
       "      <td>0</td>\n",
       "      <td>0</td>\n",
       "      <td>0</td>\n",
       "      <td>(30.267068, -97.739335)</td>\n",
       "      <td>NaN</td>\n",
       "    </tr>\n",
       "    <tr>\n",
       "      <th>1</th>\n",
       "      <td>2</td>\n",
       "      <td>03/13/2018</td>\n",
       "      <td>Tuesday</td>\n",
       "      <td>03/13/2018 04:00:00 PM</td>\n",
       "      <td>-97.738247</td>\n",
       "      <td>30.266782</td>\n",
       "      <td>CCP1, SRU1, SRU3</td>\n",
       "      <td>Refusal</td>\n",
       "      <td>NaN</td>\n",
       "      <td>0</td>\n",
       "      <td>0</td>\n",
       "      <td>0</td>\n",
       "      <td>0</td>\n",
       "      <td>1</td>\n",
       "      <td>0</td>\n",
       "      <td>(30.266782, -97.738247)</td>\n",
       "      <td>NaN</td>\n",
       "    </tr>\n",
       "    <tr>\n",
       "      <th>2</th>\n",
       "      <td>3</td>\n",
       "      <td>03/13/2018</td>\n",
       "      <td>Tuesday</td>\n",
       "      <td>03/13/2018 04:00:00 PM</td>\n",
       "      <td>-97.739335</td>\n",
       "      <td>30.267068</td>\n",
       "      <td>CCP2, MTRC5, SRU5</td>\n",
       "      <td>Refusal</td>\n",
       "      <td>NaN</td>\n",
       "      <td>0</td>\n",
       "      <td>2</td>\n",
       "      <td>0</td>\n",
       "      <td>2</td>\n",
       "      <td>1</td>\n",
       "      <td>0</td>\n",
       "      <td>(30.267068, -97.739335)</td>\n",
       "      <td>NaN</td>\n",
       "    </tr>\n",
       "    <tr>\n",
       "      <th>3</th>\n",
       "      <td>4</td>\n",
       "      <td>03/13/2018</td>\n",
       "      <td>Tuesday</td>\n",
       "      <td>03/13/2018 04:00:00 PM</td>\n",
       "      <td>-97.738025</td>\n",
       "      <td>30.267401</td>\n",
       "      <td>CHP02, MCOT01, SRU3</td>\n",
       "      <td>No Patient</td>\n",
       "      <td>NaN</td>\n",
       "      <td>0</td>\n",
       "      <td>0</td>\n",
       "      <td>0</td>\n",
       "      <td>0</td>\n",
       "      <td>0</td>\n",
       "      <td>0</td>\n",
       "      <td>(30.267401, -97.738025)</td>\n",
       "      <td>NaN</td>\n",
       "    </tr>\n",
       "    <tr>\n",
       "      <th>4</th>\n",
       "      <td>7</td>\n",
       "      <td>03/13/2018</td>\n",
       "      <td>Tuesday</td>\n",
       "      <td>03/13/2018 05:00:00 PM</td>\n",
       "      <td>-97.739313</td>\n",
       "      <td>30.267062</td>\n",
       "      <td>SRU1</td>\n",
       "      <td>Refusal</td>\n",
       "      <td>NaN</td>\n",
       "      <td>0</td>\n",
       "      <td>0</td>\n",
       "      <td>0</td>\n",
       "      <td>0</td>\n",
       "      <td>0</td>\n",
       "      <td>0</td>\n",
       "      <td>(30.267062, -97.739313)</td>\n",
       "      <td>NaN</td>\n",
       "    </tr>\n",
       "  </tbody>\n",
       "</table>\n",
       "</div>"
      ],
      "text/plain": [
       "   Incident Key  Event Date Event Day of Week           Incident Time  \\\n",
       "0             1  03/13/2018           Tuesday  03/13/2018 03:00:00 PM   \n",
       "1             2  03/13/2018           Tuesday  03/13/2018 04:00:00 PM   \n",
       "2             3  03/13/2018           Tuesday  03/13/2018 04:00:00 PM   \n",
       "3             4  03/13/2018           Tuesday  03/13/2018 04:00:00 PM   \n",
       "4             7  03/13/2018           Tuesday  03/13/2018 05:00:00 PM   \n",
       "\n",
       "   Location Longitude  Location Latitude     Responding Units Dispositions  \\\n",
       "0          -97.739335          30.267068                 SRU3   No Patient   \n",
       "1          -97.738247          30.266782     CCP1, SRU1, SRU3      Refusal   \n",
       "2          -97.739335          30.267068    CCP2, MTRC5, SRU5      Refusal   \n",
       "3          -97.738025          30.267401  CHP02, MCOT01, SRU3   No Patient   \n",
       "4          -97.739313          30.267062                 SRU1      Refusal   \n",
       "\n",
       "  Transport Priorities  Patient Transports  Patient Refusals  \\\n",
       "0                  NaN                   0                 0   \n",
       "1                  NaN                   0                 0   \n",
       "2                  NaN                   0                 2   \n",
       "3                  NaN                   0                 0   \n",
       "4                  NaN                   0                 0   \n",
       "\n",
       "   Other Patient Outcomes  Total Patients  Patients Transported to CCP  \\\n",
       "0                       0               0                            0   \n",
       "1                       0               0                            1   \n",
       "2                       0               2                            1   \n",
       "3                       0               0                            0   \n",
       "4                       0               0                            0   \n",
       "\n",
       "   Patients Transported From CPP        Incident Location  Current  \n",
       "0                              0  (30.267068, -97.739335)      NaN  \n",
       "1                              0  (30.266782, -97.738247)      NaN  \n",
       "2                              0  (30.267068, -97.739335)      NaN  \n",
       "3                              0  (30.267401, -97.738025)      NaN  \n",
       "4                              0  (30.267062, -97.739313)      NaN  "
      ]
     },
     "execution_count": 3,
     "metadata": {},
     "output_type": "execute_result"
    }
   ],
   "source": [
    "ems.head()"
   ]
  },
  {
   "cell_type": "markdown",
   "metadata": {},
   "source": [
    "Changing to a datetime object"
   ]
  },
  {
   "cell_type": "code",
   "execution_count": 57,
   "metadata": {},
   "outputs": [],
   "source": [
    "ems['datetime'] = pd.to_datetime(ems['Incident Time'])"
   ]
  },
  {
   "cell_type": "code",
   "execution_count": 58,
   "metadata": {},
   "outputs": [
    {
     "data": {
      "text/plain": [
       "0   2018-03-13 15:00:00\n",
       "1   2018-03-13 16:00:00\n",
       "2   2018-03-13 16:00:00\n",
       "3   2018-03-13 16:00:00\n",
       "4   2018-03-13 17:00:00\n",
       "Name: datetime, dtype: datetime64[ns]"
      ]
     },
     "execution_count": 58,
     "metadata": {},
     "output_type": "execute_result"
    }
   ],
   "source": [
    "ems['datetime'].head()"
   ]
  },
  {
   "cell_type": "markdown",
   "metadata": {},
   "source": [
    "Extract the day of the week from the date using `.dt.dayofweek`"
   ]
  },
  {
   "cell_type": "code",
   "execution_count": 9,
   "metadata": {},
   "outputs": [
    {
     "data": {
      "text/plain": [
       "0     1\n",
       "1     1\n",
       "2     1\n",
       "3     1\n",
       "4     1\n",
       "5     1\n",
       "6     1\n",
       "7     1\n",
       "8     1\n",
       "9     1\n",
       "10    1\n",
       "11    1\n",
       "12    1\n",
       "13    1\n",
       "14    2\n",
       "Name: Event Date, dtype: int64"
      ]
     },
     "execution_count": 9,
     "metadata": {},
     "output_type": "execute_result"
    }
   ],
   "source": [
    "ems['Event Date'].dt.dayofweek.head(15)"
   ]
  },
  {
   "cell_type": "markdown",
   "metadata": {},
   "source": [
    "Converting those dow numbers into string values with dictionaries and `.apply()`"
   ]
  },
  {
   "cell_type": "code",
   "execution_count": 12,
   "metadata": {},
   "outputs": [],
   "source": [
    "week_lookup = {\n",
    "    0 : 'Mon',\n",
    "    1 : 'Tue',\n",
    "    2 : 'Wed',\n",
    "    3 : 'Thurs',\n",
    "    4 : 'Fri',\n",
    "    5 : 'Sat',\n",
    "    6 : 'Sun'\n",
    "}"
   ]
  },
  {
   "cell_type": "code",
   "execution_count": 25,
   "metadata": {},
   "outputs": [
    {
     "data": {
      "text/plain": [
       "Event Date\n",
       "Tue      14\n",
       "Wed      15\n",
       "Fri      45\n",
       "Thurs    19\n",
       "Sat      48\n",
       "dtype: int64"
      ]
     },
     "execution_count": 25,
     "metadata": {},
     "output_type": "execute_result"
    }
   ],
   "source": [
    "# mon = 0, sun = 6\n",
    "ems.groupby(ems['Event Date'].dt.dayofweek.apply(lambda x: week_lookup[x]), sort=False).size()"
   ]
  },
  {
   "cell_type": "code",
   "execution_count": 42,
   "metadata": {},
   "outputs": [
    {
     "data": {
      "text/plain": [
       "Event Date\n",
       "1    14\n",
       "2    15\n",
       "3    19\n",
       "4    45\n",
       "5    48\n",
       "dtype: int64"
      ]
     },
     "execution_count": 42,
     "metadata": {},
     "output_type": "execute_result"
    }
   ],
   "source": [
    "ebd = ems.groupby(ems['Event Date'].dt.dayofweek, sort=True).size()\n",
    "ebd"
   ]
  },
  {
   "cell_type": "markdown",
   "metadata": {},
   "source": [
    "Plotting within a notebook"
   ]
  },
  {
   "cell_type": "code",
   "execution_count": null,
   "metadata": {},
   "outputs": [],
   "source": []
  },
  {
   "cell_type": "code",
   "execution_count": null,
   "metadata": {},
   "outputs": [],
   "source": []
  },
  {
   "cell_type": "code",
   "execution_count": 43,
   "metadata": {},
   "outputs": [
    {
     "data": {
      "text/plain": [
       "[1, 2, 3, 4, 5]"
      ]
     },
     "execution_count": 43,
     "metadata": {},
     "output_type": "execute_result"
    }
   ],
   "source": [
    "ebd.index.tolist()"
   ]
  },
  {
   "cell_type": "code",
   "execution_count": 47,
   "metadata": {},
   "outputs": [
    {
     "data": {
      "text/plain": [
       "['Tue', 'Wed', 'Thurs', 'Fri', 'Sat']"
      ]
     },
     "execution_count": 47,
     "metadata": {},
     "output_type": "execute_result"
    }
   ],
   "source": [
    "[week_lookup[x] for x in ebd.index.tolist()]"
   ]
  },
  {
   "cell_type": "code",
   "execution_count": 51,
   "metadata": {},
   "outputs": [
    {
     "data": {
      "image/png": "[encoded data removed]",
      "text/plain": [
       "<Figure size 720x288 with 2 Axes>"
      ]
     },
     "metadata": {
      "needs_background": "light"
     },
     "output_type": "display_data"
    }
   ],
   "source": [
    "fig, axes = plt.subplots(nrows=1, ncols=2)\n",
    "fig.set_figwidth(10)\n",
    "\n",
    "for i, ax in enumerate(axes):\n",
    "    # graph on the left\n",
    "    if i == 0:\n",
    "        ax.set_title('SXSW EMS Incidents by Day')\n",
    "        ax.bar(ebd.index.tolist(), ebd.values.tolist())\n",
    "        ax.set_xticklabels(['foo'] + [week_lookup[x] for x in ebd.index.tolist()])\n",
    "    # graph on the right:\n",
    "    if i == 1:\n",
    "        ax.bar\n",
    "plt.plot();"
   ]
  },
  {
   "cell_type": "code",
   "execution_count": 55,
   "metadata": {},
   "outputs": [
    {
     "data": {
      "text/plain": [
       "0     2018-03-13 15:00:00\n",
       "1     2018-03-13 16:00:00\n",
       "2     2018-03-13 16:00:00\n",
       "3     2018-03-13 16:00:00\n",
       "4     2018-03-13 17:00:00\n",
       "5     2018-03-13 18:00:00\n",
       "6     2018-03-13 18:00:00\n",
       "7     2018-03-13 19:00:00\n",
       "8     2018-03-13 21:00:00\n",
       "9     2018-03-14 00:00:00\n",
       "10    2018-03-14 00:00:00\n",
       "11    2018-03-14 00:00:00\n",
       "12    2018-03-14 02:00:00\n",
       "13    2018-03-14 02:00:00\n",
       "14    2018-03-14 15:00:00\n",
       "15    2018-03-14 16:00:00\n",
       "16    2018-03-14 16:00:00\n",
       "17    2018-03-14 17:00:00\n",
       "18    2018-03-14 17:00:00\n",
       "19    2018-03-14 20:00:00\n",
       "20    2018-03-14 20:00:00\n",
       "21    2018-03-14 20:00:00\n",
       "22    2018-03-14 23:00:00\n",
       "23    2018-03-14 23:00:00\n",
       "24    2018-03-15 00:00:00\n",
       "25    2018-03-15 00:00:00\n",
       "26    2018-03-16 16:00:00\n",
       "27    2018-03-15 00:00:00\n",
       "28    2018-03-15 01:00:00\n",
       "29    2018-03-15 02:00:00\n",
       "              ...        \n",
       "111   2018-03-17 20:00:00\n",
       "112   2018-03-17 20:00:00\n",
       "113   2018-03-17 20:00:00\n",
       "114   2018-03-17 21:00:00\n",
       "115   2018-03-17 21:00:00\n",
       "116   2018-03-17 21:00:00\n",
       "117   2018-03-17 22:00:00\n",
       "118   2018-03-17 22:00:00\n",
       "119   2018-03-17 22:00:00\n",
       "120   2018-03-17 23:00:00\n",
       "121   2018-03-17 23:00:00\n",
       "122   2018-03-18 00:00:00\n",
       "123   2018-03-18 00:00:00\n",
       "124   2018-03-18 00:00:00\n",
       "125   2018-03-18 00:00:00\n",
       "126   2018-03-18 00:00:00\n",
       "127   2018-03-18 00:00:00\n",
       "128   2018-03-18 01:00:00\n",
       "129   2018-03-18 01:00:00\n",
       "130   2018-03-18 01:00:00\n",
       "131   2018-03-18 01:00:00\n",
       "132   2018-03-18 01:00:00\n",
       "133   2018-03-18 01:00:00\n",
       "134   2018-03-18 01:00:00\n",
       "135   2018-03-18 01:00:00\n",
       "136   2018-03-18 02:00:00\n",
       "137   2018-03-18 02:00:00\n",
       "138   2018-03-18 02:00:00\n",
       "139   2018-03-18 02:00:00\n",
       "140   2018-03-18 02:00:00\n",
       "Name: Incident Time, Length: 141, dtype: datetime64[ns]"
      ]
     },
     "execution_count": 55,
     "metadata": {},
     "output_type": "execute_result"
    }
   ],
   "source": [
    "pd.to_datetime(ems['Incident Time'])"
   ]
  },
  {
   "cell_type": "markdown",
   "metadata": {},
   "source": [
    "## Charting Stuff on a Map"
   ]
  },
  {
   "cell_type": "code",
   "execution_count": 35,
   "metadata": {},
   "outputs": [],
   "source": [
    "ems['lat'] = ems['Incident Location'].apply(lambda x: float(re.findall(r'-?\\d+.\\d+', x)[0]))\n",
    "ems['lon'] = ems['Incident Location'].apply(lambda x: float(re.findall(r'-?\\d+.\\d+', x)[1]))"
   ]
  },
  {
   "cell_type": "code",
   "execution_count": 37,
   "metadata": {},
   "outputs": [
    {
     "data": {
      "text/html": [
       "<div>\n",
       "<style scoped>\n",
       "    .dataframe tbody tr th:only-of-type {\n",
       "        vertical-align: middle;\n",
       "    }\n",
       "\n",
       "    .dataframe tbody tr th {\n",
       "        vertical-align: top;\n",
       "    }\n",
       "\n",
       "    .dataframe thead th {\n",
       "        text-align: right;\n",
       "    }\n",
       "</style>\n",
       "<table border=\"1\" class=\"dataframe\">\n",
       "  <thead>\n",
       "    <tr style=\"text-align: right;\">\n",
       "      <th></th>\n",
       "      <th>Incident Key</th>\n",
       "      <th>Event Date</th>\n",
       "      <th>Event Day of Week</th>\n",
       "      <th>Incident Time</th>\n",
       "      <th>Location Longitude</th>\n",
       "      <th>Location Latitude</th>\n",
       "      <th>Responding Units</th>\n",
       "      <th>Dispositions</th>\n",
       "      <th>Transport Priorities</th>\n",
       "      <th>Patient Transports</th>\n",
       "      <th>Patient Refusals</th>\n",
       "      <th>Other Patient Outcomes</th>\n",
       "      <th>Total Patients</th>\n",
       "      <th>Patients Transported to CCP</th>\n",
       "      <th>Patients Transported From CPP</th>\n",
       "      <th>Incident Location</th>\n",
       "      <th>Current</th>\n",
       "      <th>lat</th>\n",
       "      <th>lon</th>\n",
       "    </tr>\n",
       "  </thead>\n",
       "  <tbody>\n",
       "    <tr>\n",
       "      <th>0</th>\n",
       "      <td>1</td>\n",
       "      <td>2018-03-13</td>\n",
       "      <td>Tuesday</td>\n",
       "      <td>03/13/2018 03:00:00 PM</td>\n",
       "      <td>-97.739335</td>\n",
       "      <td>30.267068</td>\n",
       "      <td>SRU3</td>\n",
       "      <td>No Patient</td>\n",
       "      <td>NaN</td>\n",
       "      <td>0</td>\n",
       "      <td>0</td>\n",
       "      <td>0</td>\n",
       "      <td>0</td>\n",
       "      <td>0</td>\n",
       "      <td>0</td>\n",
       "      <td>(30.267068, -97.739335)</td>\n",
       "      <td>NaN</td>\n",
       "      <td>30.267068</td>\n",
       "      <td>-97.739335</td>\n",
       "    </tr>\n",
       "  </tbody>\n",
       "</table>\n",
       "</div>"
      ],
      "text/plain": [
       "   Incident Key Event Date Event Day of Week           Incident Time  \\\n",
       "0             1 2018-03-13           Tuesday  03/13/2018 03:00:00 PM   \n",
       "\n",
       "   Location Longitude  Location Latitude Responding Units Dispositions  \\\n",
       "0          -97.739335          30.267068             SRU3   No Patient   \n",
       "\n",
       "  Transport Priorities  Patient Transports  Patient Refusals  \\\n",
       "0                  NaN                   0                 0   \n",
       "\n",
       "   Other Patient Outcomes  Total Patients  Patients Transported to CCP  \\\n",
       "0                       0               0                            0   \n",
       "\n",
       "   Patients Transported From CPP        Incident Location  Current        lat  \\\n",
       "0                              0  (30.267068, -97.739335)      NaN  30.267068   \n",
       "\n",
       "         lon  \n",
       "0 -97.739335  "
      ]
     },
     "execution_count": 37,
     "metadata": {},
     "output_type": "execute_result"
    }
   ],
   "source": [
    "ems.head(1)"
   ]
  },
  {
   "cell_type": "code",
   "execution_count": 38,
   "metadata": {},
   "outputs": [],
   "source": [
    "with open(\"./constants.json\") as f:\n",
    "    data = f.read()\n",
    "    api_key = json.loads(data)['key']\n",
    "\n",
    "gmaps.configure(api_key=api_key)\n",
    "fig = gmaps.figure()\n",
    "fig.add_layer(gmaps.heatmap_layer(ems[['lat', 'lon']], weights=ems['Total Patients']))"
   ]
  },
  {
   "cell_type": "code",
   "execution_count": 39,
   "metadata": {},
   "outputs": [
    {
     "data": {
      "application/vnd.jupyter.widget-view+json": {
       "model_id": "e41f5077ee644e29983d89edd5707275",
       "version_major": 2,
       "version_minor": 0
      },
      "text/plain": [
       "Figure(layout=FigureLayout(height='420px'))"
      ]
     },
     "metadata": {},
     "output_type": "display_data"
    }
   ],
   "source": [
    "fig"
   ]
  },
  {
   "cell_type": "code",
   "execution_count": null,
   "metadata": {},
   "outputs": [],
   "source": [
    "import pandas as pd\n",
    "import os\n",
    "import xlrd\n",
    "\n",
    "# avoids WARNING *** file size (499584) not 512 + multiple of sector size (512) error\n",
    "wb = xlrd.open_workbook('./product.xls', logfile=open(os.devnull, 'w'))\n",
    "s0 = pd.read_excel(wb, engine='xlrd', sheet_name=0)"
   ]
  }
 ],
 "metadata": {
  "kernelspec": {
   "display_name": "Python 3",
   "language": "python",
   "name": "python3"
  },
  "language_info": {
   "codemirror_mode": {
    "name": "ipython",
    "version": 3
   },
   "file_extension": ".py",
   "mimetype": "text/x-python",
   "name": "python",
   "nbconvert_exporter": "python",
   "pygments_lexer": "ipython3",
   "version": "3.7.2"
  }
 },
 "nbformat": 4,
 "nbformat_minor": 2
}
